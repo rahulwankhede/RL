{
 "cells": [
  {
   "cell_type": "code",
   "execution_count": 7,
   "metadata": {},
   "outputs": [],
   "source": [
    "import numpy as np\n",
    "import matplotlib.pyplot as plt"
   ]
  },
  {
   "cell_type": "code",
   "execution_count": 43,
   "metadata": {},
   "outputs": [
    {
     "data": {
      "text/plain": [
       "2"
      ]
     },
     "execution_count": 43,
     "metadata": {},
     "output_type": "execute_result"
    }
   ],
   "source": [
    "np.random.poisson(3)"
   ]
  },
  {
   "cell_type": "code",
   "execution_count": 9,
   "metadata": {},
   "outputs": [],
   "source": []
  },
  {
   "cell_type": "code",
   "execution_count": 52,
   "metadata": {},
   "outputs": [],
   "source": [
    "V = np.random.normal(0, 1, (2,2))"
   ]
  },
  {
   "cell_type": "code",
   "execution_count": 53,
   "metadata": {},
   "outputs": [
    {
     "data": {
      "text/plain": [
       "array([[ 1.14868278,  0.27643836],\n",
       "       [-2.56199282,  0.48373859]])"
      ]
     },
     "execution_count": 53,
     "metadata": {},
     "output_type": "execute_result"
    }
   ],
   "source": [
    "V"
   ]
  },
  {
   "cell_type": "code",
   "execution_count": 2,
   "metadata": {},
   "outputs": [],
   "source": [
    "def poiss(n, lam):\n",
    "    return (lam**n) * (np.exp(-lam)) / np.math.factorial(n)"
   ]
  },
  {
   "cell_type": "code",
   "execution_count": 86,
   "metadata": {},
   "outputs": [
    {
     "data": {
      "text/plain": [
       "0.0024787521766663585"
      ]
     },
     "execution_count": 86,
     "metadata": {},
     "output_type": "execute_result"
    }
   ],
   "source": [
    "poiss(0,3)**2"
   ]
  },
  {
   "cell_type": "code",
   "execution_count": 85,
   "metadata": {},
   "outputs": [
    {
     "data": {
      "text/plain": [
       "0.0024787521766663585"
      ]
     },
     "execution_count": 85,
     "metadata": {},
     "output_type": "execute_result"
    }
   ],
   "source": [
    "poiss(0,6)"
   ]
  },
  {
   "cell_type": "code",
   "execution_count": 83,
   "metadata": {},
   "outputs": [
    {
     "data": {
      "text/plain": [
       "8"
      ]
     },
     "execution_count": 83,
     "metadata": {},
     "output_type": "execute_result"
    }
   ],
   "source": [
    "2**3"
   ]
  },
  {
   "cell_type": "code",
   "execution_count": null,
   "metadata": {},
   "outputs": [],
   "source": []
  },
  {
   "cell_type": "code",
   "execution_count": null,
   "metadata": {},
   "outputs": [],
   "source": [
    "def p(s_, r, s, pi_s):\n",
    "    "
   ]
  },
  {
   "cell_type": "code",
   "execution_count": 87,
   "metadata": {},
   "outputs": [
    {
     "ename": "SyntaxError",
     "evalue": "invalid syntax (<ipython-input-87-4bbb88082b79>, line 4)",
     "output_type": "error",
     "traceback": [
      "\u001b[0;36m  File \u001b[0;32m\"<ipython-input-87-4bbb88082b79>\"\u001b[0;36m, line \u001b[0;32m4\u001b[0m\n\u001b[0;31m    del = 0\u001b[0m\n\u001b[0m        ^\u001b[0m\n\u001b[0;31mSyntaxError\u001b[0m\u001b[0;31m:\u001b[0m invalid syntax\n"
     ]
    }
   ],
   "source": [
    "def evaluate(pi, eps=0.001):\n",
    "    \n",
    "    while(True):\n",
    "        del = 0\n",
    "        for i in range(20):\n",
    "            for j in range(20):\n",
    "                v = V[i][j]\n",
    "\n",
    "                V[i][j] = "
   ]
  },
  {
   "cell_type": "code",
   "execution_count": 93,
   "metadata": {},
   "outputs": [],
   "source": [
    "def avg_reward(i, i_):\n",
    "    if (i > i_):\n",
    "        x_out = i - i_\n",
    "        x_in = 0\n",
    "    else:\n",
    "        x_out = 0\n",
    "        x_in = i_ - i\n",
    "    \n",
    "    r = 0\n",
    "    rn = i_ if x_in == 0 else i\n",
    "    for index in range(rn + 1):\n",
    "        r += poiss(x_out + index, lam=3)*poiss(x_in + index, lam=3)*(index*10)\n",
    "        \n",
    "    return r"
   ]
  },
  {
   "cell_type": "code",
   "execution_count": 96,
   "metadata": {},
   "outputs": [
    {
     "data": {
      "text/plain": [
       "3.8622057352682697"
      ]
     },
     "execution_count": 96,
     "metadata": {},
     "output_type": "execute_result"
    }
   ],
   "source": [
    "avg_reward(4,4)"
   ]
  },
  {
   "cell_type": "code",
   "execution_count": 102,
   "metadata": {},
   "outputs": [],
   "source": [
    "def prob(i, i_, lam1, lam2):\n",
    "    v = poiss(x_out + index, lam=lam1)*poiss(x_in + index, lam=lam2)\n",
    "        \n",
    "    return v"
   ]
  },
  {
   "cell_type": "code",
   "execution_count": 103,
   "metadata": {},
   "outputs": [
    {
     "data": {
      "text/plain": [
       "0.15341152143399134"
      ]
     },
     "execution_count": 103,
     "metadata": {},
     "output_type": "execute_result"
    }
   ],
   "source": [
    "prob(4,4,3,3)"
   ]
  },
  {
   "cell_type": "code",
   "execution_count": 3,
   "metadata": {},
   "outputs": [],
   "source": [
    "def evaluate(V,q,w):\n",
    "    v = 0\n",
    "    for u in range(11):\n",
    "        for e in range(q+1):\n",
    "            for r in range(20-q+e+1):\n",
    "                for t in range(w+1):\n",
    "                    for y in range(20-w+t+1):\n",
    "                        v += pi[q][w][u]*poiss(e,3)*poiss(r,3)*poiss(t,4)*poiss(y,2)*(10*(e+t) + gamma*V[q-e+r][w-t+y])\n",
    "                    \n",
    "    return v"
   ]
  },
  {
   "cell_type": "code",
   "execution_count": 10,
   "metadata": {},
   "outputs": [],
   "source": [
    "V = np.random.normal(0,1,(21,21))\n",
    "pi = np.zeros((20,20,11))\n",
    "pi[:][:][5] = 1\n",
    "eps = 1\n",
    "gamma = 0.9"
   ]
  },
  {
   "cell_type": "code",
   "execution_count": 18,
   "metadata": {},
   "outputs": [
    {
     "data": {
      "text/plain": [
       "array([[0., 0., 0., 0., 0., 0., 0., 0., 0., 0., 0.],\n",
       "       [0., 0., 0., 0., 0., 0., 0., 0., 0., 0., 0.],\n",
       "       [0., 0., 0., 0., 0., 0., 0., 0., 0., 0., 0.],\n",
       "       [0., 0., 0., 0., 0., 0., 0., 0., 0., 0., 0.],\n",
       "       [0., 0., 0., 0., 0., 0., 0., 0., 0., 0., 0.],\n",
       "       [0., 0., 0., 0., 0., 0., 0., 0., 0., 0., 0.],\n",
       "       [0., 0., 0., 0., 0., 0., 0., 0., 0., 0., 0.],\n",
       "       [0., 0., 0., 0., 0., 0., 0., 0., 0., 0., 0.],\n",
       "       [0., 0., 0., 0., 0., 0., 0., 0., 0., 0., 0.],\n",
       "       [0., 0., 0., 0., 0., 0., 0., 0., 0., 0., 0.],\n",
       "       [0., 0., 0., 0., 0., 0., 0., 0., 0., 0., 0.],\n",
       "       [0., 0., 0., 0., 0., 0., 0., 0., 0., 0., 0.],\n",
       "       [0., 0., 0., 0., 0., 0., 0., 0., 0., 0., 0.],\n",
       "       [0., 0., 0., 0., 0., 0., 0., 0., 0., 0., 0.],\n",
       "       [0., 0., 0., 0., 0., 0., 0., 0., 0., 0., 0.],\n",
       "       [0., 0., 0., 0., 0., 0., 0., 0., 0., 0., 0.],\n",
       "       [0., 0., 0., 0., 0., 0., 0., 0., 0., 0., 0.],\n",
       "       [0., 0., 0., 0., 0., 0., 0., 0., 0., 0., 0.],\n",
       "       [0., 0., 0., 0., 0., 0., 0., 0., 0., 0., 0.],\n",
       "       [0., 0., 0., 0., 0., 0., 0., 0., 0., 0., 0.]])"
      ]
     },
     "execution_count": 18,
     "metadata": {},
     "output_type": "execute_result"
    }
   ],
   "source": [
    "pi[:][:][6]"
   ]
  },
  {
   "cell_type": "code",
   "execution_count": 5,
   "metadata": {},
   "outputs": [],
   "source": [
    "def pol_eval(V):\n",
    "    while (True):\n",
    "        delta = 0\n",
    "        for q in range(20):\n",
    "            for w in range(20):\n",
    "                v = V[q][w]\n",
    "                v_new = 0\n",
    "                for e in range(q+1):\n",
    "                    for r in range(20-q+e+1):\n",
    "                        for t in range(w+1):\n",
    "                            for y in range(20-w+t+1):\n",
    "                                v_new += poiss(e,3)*poiss(r,3)*poiss(t,4)*poiss(y,2)*(10*(e+t) + gamma*V[q-e+r][w-t+y])\n",
    "                V[q][w] = v_new\n",
    "                delta = max(delta, abs(v - V[q][w]))\n",
    "        \n",
    "        print(\"delta = \\n\", delta)\n",
    "        if(delta < eps):\n",
    "            break\n",
    "    return V"
   ]
  },
  {
   "cell_type": "code",
   "execution_count": 6,
   "metadata": {},
   "outputs": [
    {
     "name": "stdout",
     "output_type": "stream",
     "text": [
      "delta = \n",
      " 129.31338709701438\n",
      "delta = \n",
      " 86.32153833735502\n",
      "delta = \n",
      " 51.84690893836515\n",
      "delta = \n",
      " 27.726933692524767\n",
      "delta = \n",
      " 13.702314815276509\n",
      "delta = \n",
      " 6.273385624990283\n",
      "delta = \n",
      " 2.6941579817734578\n",
      "delta = \n",
      " 1.0991028959641653\n",
      "delta = \n",
      " 0.4314449191112715\n"
     ]
    },
    {
     "data": {
      "text/plain": [
       "array([[ 8.97408504e-03,  8.79861214e-02,  3.40712685e-01,\n",
       "         8.24698128e-01,  1.49540463e+00,  2.24480142e+00,\n",
       "         2.97475602e+00,  3.63460098e+00,  4.21472486e+00,\n",
       "         4.72453918e+00,  5.17649978e+00,  5.58010613e+00,\n",
       "         5.94131035e+00,  6.26288855e+00,  6.54358945e+00,\n",
       "         6.77498938e+00,  6.93521543e+00,  6.98038675e+00,\n",
       "         6.84064725e+00,  6.43579022e+00, -6.04449348e-01],\n",
       "       [ 6.62761338e-02,  5.06037212e-01,  1.77153746e+00,\n",
       "         4.06330316e+00,  7.13136306e+00,  1.04815811e+01,\n",
       "         1.36954402e+01,  1.65736506e+01,  1.90924538e+01,\n",
       "         2.13029994e+01,  2.32635606e+01,  2.50163793e+01,\n",
       "         2.65870624e+01,  2.79870819e+01,  2.92103097e+01,\n",
       "         3.02191840e+01,  3.09168001e+01,  3.11083812e+01,\n",
       "         3.04822049e+01,  2.86770523e+01, -1.12500165e+00],\n",
       "       [ 2.00484797e-01,  1.37962396e+00,  4.57789399e+00,\n",
       "         1.01718717e+01,  1.74967727e+01,  2.53832262e+01,\n",
       "         3.28876677e+01,  3.95864433e+01,  4.54502219e+01,\n",
       "         5.06076282e+01,  5.51944180e+01,  5.93058360e+01,\n",
       "         6.29982072e+01,  6.62954744e+01,  6.91808140e+01,\n",
       "         7.15635461e+01,  7.32124989e+01,  7.36636270e+01,\n",
       "         7.21729918e+01,  6.78756245e+01, -2.17373142e-01],\n",
       "       [ 3.87717155e-01,  2.52701012e+00,  8.12798865e+00,\n",
       "         1.77156736e+01,  3.01058628e+01,  4.33527339e+01,\n",
       "         5.59338355e+01,  6.71885581e+01,  7.70865874e+01,\n",
       "         8.58394152e+01,  9.36619638e+01,  1.00701690e+02,\n",
       "         1.07043882e+02,  1.12721927e+02,  1.17701395e+02,\n",
       "         1.21822023e+02,  1.24682275e+02,  1.25479705e+02,\n",
       "         1.22929877e+02,  1.15541936e+02,  1.66067464e+00],\n",
       "       [ 5.74486397e-01,  3.63055230e+00,  1.14637928e+01,\n",
       "         2.47049431e+01,  4.17049722e+01,  5.98532656e+01,\n",
       "         7.71405812e+01,  9.27043972e+01,  1.06502277e+02,\n",
       "         1.18798932e+02,  1.29859909e+02,  1.39864234e+02,\n",
       "         1.48912764e+02,  1.57039484e+02,  1.64185789e+02,\n",
       "         1.70116015e+02,  1.74252378e+02,  1.75448373e+02,\n",
       "         1.71876462e+02,  1.61427040e+02,  9.39843811e-01],\n",
       "       [ 7.21875910e-01,  4.48155593e+00,  1.40013778e+01,\n",
       "         2.99896802e+01,  5.04775897e+01,  7.23995105e+01,\n",
       "         9.34095392e+01,  1.12493524e+02,  1.29578548e+02,\n",
       "         1.44941149e+02,  1.58860151e+02,  1.71520184e+02,\n",
       "         1.83021173e+02,  1.93387584e+02,  2.02531756e+02,\n",
       "         2.10144774e+02,  2.15487214e+02,  2.17104661e+02,\n",
       "         2.12692017e+02,  1.99608651e+02,  6.04926960e-01],\n",
       "       [ 8.20658859e-01,  5.04405056e+00,  1.56689295e+01,\n",
       "         3.34672436e+01,  5.62946238e+01,  8.08244374e+01,\n",
       "         1.04508515e+02,  1.26226959e+02,  1.45864498e+02,\n",
       "         1.63679061e+02,  1.79935369e+02,  1.94804555e+02,\n",
       "         2.08373218e+02,  2.20648779e+02,  2.31512282e+02,\n",
       "         2.40588218e+02,  2.46999016e+02,  2.49034595e+02,\n",
       "         2.44001463e+02,  2.28839020e+02,  5.39759005e-01],\n",
       "       [ 8.80237118e-01,  5.38106867e+00,  1.66690367e+01,\n",
       "         3.55699023e+01,  5.98624652e+01,  8.60901209e+01,\n",
       "         1.11594501e+02,  1.35185776e+02,  1.56705979e+02,\n",
       "         1.76381963e+02,  1.94452348e+02,  2.11066129e+02,\n",
       "         2.26290685e+02,  2.40113015e+02,  2.52383614e+02,\n",
       "         2.62669527e+02,  2.69980738e+02,  2.72405038e+02,\n",
       "         2.66948117e+02,  2.50232550e+02, -1.84585100e-01],\n",
       "       [ 9.14124553e-01,  5.57260293e+00,  1.72409888e+01,\n",
       "         3.67879953e+01,  6.19675946e+01,  8.92656243e+01,\n",
       "         1.15967529e+02,  1.40839646e+02,  1.63689181e+02,\n",
       "         1.84712859e+02,  2.04122834e+02,  2.22045569e+02,\n",
       "         2.38528903e+02,  2.53539965e+02,  2.66902239e+02,\n",
       "         2.78136117e+02,  2.86164576e+02,  2.88923018e+02,\n",
       "         2.83194304e+02,  2.65371172e+02,  2.86505490e-01],\n",
       "       [ 9.32762660e-01,  5.67824163e+00,  1.75591929e+01,\n",
       "         3.74752346e+01,  6.31768907e+01,  9.11269621e+01,\n",
       "         1.18583598e+02,  1.44287366e+02,  1.68021261e+02,\n",
       "         1.89959074e+02,  2.10292046e+02,  2.29128372e+02,\n",
       "         2.46499712e+02,  2.62356835e+02,  2.76502027e+02,\n",
       "         2.88421018e+02,  2.96974421e+02,  2.99990608e+02,\n",
       "         2.94097989e+02,  2.75532294e+02, -1.32798913e+00],\n",
       "       [ 9.42428965e-01,  5.73320971e+00,  1.77259852e+01,\n",
       "         3.78393761e+01,  6.38261522e+01,  9.21405566e+01,\n",
       "         1.20028075e+02,  1.46215409e+02,  1.70471156e+02,\n",
       "         1.92954762e+02,  2.13844049e+02,  2.33235249e+02,\n",
       "         2.51149255e+02,  2.67525960e+02,  2.82153885e+02,\n",
       "         2.94496929e+02,  3.03377240e+02,  3.06557966e+02,\n",
       "         3.00574158e+02,  2.81567466e+02,  2.55199462e-01],\n",
       "       [ 9.46348460e-01,  5.75544179e+00,  1.77934083e+01,\n",
       "         3.79867167e+01,  6.40893226e+01,  9.25521401e+01,\n",
       "         1.20615346e+02,  1.46999582e+02,  1.71467100e+02,\n",
       "         1.94171115e+02,  2.15283760e+02,  2.34896341e+02,\n",
       "         2.53025453e+02,  2.69606759e+02,  2.84423483e+02,\n",
       "         2.96931053e+02,  3.05936542e+02,  3.09177380e+02,\n",
       "         3.03151746e+02,  2.83964292e+02, -1.12761298e+00],\n",
       "       [ 9.45827126e-01,  5.75206167e+00,  1.77818800e+01,\n",
       "         3.79587051e+01,  6.40341499e+01,  9.24576183e+01,\n",
       "         1.20468505e+02,  1.46787406e+02,  1.71177325e+02,\n",
       "         1.93792981e+02,  2.14808582e+02,  2.34317886e+02,\n",
       "         2.52340185e+02,  2.68814149e+02,  2.83526684e+02,\n",
       "         2.95938415e+02,  3.04864596e+02,  3.08055569e+02,\n",
       "         3.02027348e+02,  2.82902423e+02,  1.53362052e-01],\n",
       "       [ 9.40849437e-01,  5.72257302e+00,  1.76889041e+01,\n",
       "         3.77482807e+01,  6.36460920e+01,  9.18324481e+01,\n",
       "         1.19551268e+02,  1.45529942e+02,  1.69540053e+02,\n",
       "         1.91746152e+02,  2.12332766e+02,  2.31403805e+02,\n",
       "         2.48988448e+02,  2.65035691e+02,  2.79345141e+02,\n",
       "         2.91396385e+02,  3.00036441e+02,  3.03067926e+02,\n",
       "         2.97080559e+02,  2.78270778e+02, -2.40780564e-01],\n",
       "       [ 9.30200623e-01,  5.65920460e+00,  1.74892770e+01,\n",
       "         3.72989977e+01,  6.28252521e+01,  9.05256576e+01,\n",
       "         1.17658956e+02,  1.42970115e+02,  1.66249791e+02,\n",
       "         1.87682342e+02,  2.07471681e+02,  2.25739770e+02,\n",
       "         2.42532565e+02,  2.57816148e+02,  2.71411294e+02,\n",
       "         2.82830161e+02,  2.90975897e+02,  2.93745134e+02,\n",
       "         2.87861411e+02,  2.69656101e+02, -1.06622369e+00],\n",
       "       [ 9.11286163e-01,  5.54535523e+00,  1.71294925e+01,\n",
       "         3.64923767e+01,  6.13651603e+01,  8.82308817e+01,\n",
       "         1.14384359e+02,  1.38606541e+02,  1.60721889e+02,\n",
       "         1.80946426e+02,  1.99512923e+02,  2.16568693e+02,\n",
       "         2.32182120e+02,  2.46341604e+02,  2.58896189e+02,\n",
       "         2.69403601e+02,  2.76848506e+02,  2.79267040e+02,\n",
       "         2.73583685e+02,  2.56334142e+02, -1.02450106e+00],\n",
       "       [ 8.79910313e-01,  5.35375687e+00,  1.65214915e+01,\n",
       "         3.51348854e+01,  5.89334681e+01,  8.44646614e+01,\n",
       "         1.09099422e+02,  1.31684157e+02,  1.52096074e+02,\n",
       "         1.70594944e+02,  1.87450243e+02,  2.02839470e+02,\n",
       "         2.16856254e+02,  2.29513707e+02,  2.40693834e+02,\n",
       "         2.50011523e+02,  2.56558948e+02,  2.58561137e+02,\n",
       "         2.53218638e+02,  2.37351375e+02,  1.00031059e+00],\n",
       "       [ 8.30509120e-01,  5.04779454e+00,  1.55473185e+01,\n",
       "         3.29706751e+01,  5.51003459e+01,  7.86196689e+01,\n",
       "         1.01041753e+02,  1.21319790e+02,  1.39403417e+02,\n",
       "         1.55603749e+02,  1.70229064e+02,  1.83486453e+02,\n",
       "         1.95492815e+02,  2.06284227e+02,  2.15776861e+02,\n",
       "         2.23651740e+02,  2.29133194e+02,  2.30685359e+02,\n",
       "         2.25864107e+02,  2.11861133e+02, -1.39630054e+00],\n",
       "       [ 7.57518158e-01,  4.59096373e+00,  1.40915302e+01,\n",
       "         2.97573189e+01,  4.94771949e+01,  7.01802332e+01,\n",
       "         8.96133577e+01,  1.06883973e+02,  1.22026491e+02,\n",
       "         1.35399034e+02,  1.47339725e+02,  1.58076174e+02,\n",
       "         1.67740421e+02,  1.76385096e+02,  1.83957718e+02,\n",
       "         1.90210067e+02,  1.94517566e+02,  1.95625974e+02,\n",
       "         1.91517160e+02,  1.79837391e+02,  5.60202634e-01],\n",
       "       [ 6.58189210e-01,  3.96676157e+00,  1.21083462e+01,\n",
       "         2.54170009e+01,  4.19794312e+01,  5.91063757e+01,\n",
       "         7.48798456e+01,  8.86007913e+01,  1.00383177e+02,\n",
       "         1.10609587e+02,  1.19624923e+02,  1.27659050e+02,\n",
       "         1.34845585e+02,  1.41243822e+02,  1.46826262e+02,\n",
       "         1.51413945e+02,  1.54540294e+02,  1.55253921e+02,\n",
       "         1.52003342e+02,  1.42944463e+02, -2.12281505e+00],\n",
       "       [ 1.17476349e+00, -5.10264307e-01, -9.09657381e-03,\n",
       "         2.74704505e-04,  1.31297010e+00, -2.16705682e+00,\n",
       "         1.24661484e-01, -6.10642824e-02,  3.08392715e-01,\n",
       "        -5.54802784e-01, -1.61307213e-01,  6.95852428e-01,\n",
       "        -5.21942513e-01,  3.92669752e-01,  7.82642761e-01,\n",
       "        -4.94021682e-01, -1.14055380e+00,  1.95654091e+00,\n",
       "         2.15561844e-01,  8.46222243e-01, -6.13598657e-01]])"
      ]
     },
     "execution_count": 6,
     "metadata": {},
     "output_type": "execute_result"
    }
   ],
   "source": [
    "pol_eval(V)"
   ]
  },
  {
   "cell_type": "code",
   "execution_count": 8,
   "metadata": {},
   "outputs": [
    {
     "data": {
      "text/plain": [
       "<matplotlib.image.AxesImage at 0x7f760a6025e0>"
      ]
     },
     "execution_count": 8,
     "metadata": {},
     "output_type": "execute_result"
    },
    {
     "data": {
      "image/png": "[encoded data removed]",
      "text/plain": [
       "<Figure size 432x288 with 1 Axes>"
      ]
     },
     "metadata": {
      "needs_background": "light"
     },
     "output_type": "display_data"
    }
   ],
   "source": [
    "plt.imshow(V)"
   ]
  },
  {
   "cell_type": "code",
   "execution_count": null,
   "metadata": {},
   "outputs": [],
   "source": [
    "def evaluate_pi(V,q,w,pi):\n",
    "    v = 0\n",
    "    for e in range(q+1):\n",
    "        for r in range(20-q+e+1):\n",
    "            for t in range(w+1):\n",
    "                for y in range(20-w+t+1):\n",
    "                    v += poiss(e,3)*poiss(r,3)*poiss(t,4)*poiss(y,2)*(10*(e+t) + gamma*V[q-e+r][w-t+y])\n",
    "                    \n",
    "    return v"
   ]
  }
 ],
 "metadata": {
  "kernelspec": {
   "display_name": "Python 3",
   "language": "python",
   "name": "python3"
  },
  "language_info": {
   "codemirror_mode": {
    "name": "ipython",
    "version": 3
   },
   "file_extension": ".py",
   "mimetype": "text/x-python",
   "name": "python",
   "nbconvert_exporter": "python",
   "pygments_lexer": "ipython3",
   "version": "3.8.2"
  }
 },
 "nbformat": 4,
 "nbformat_minor": 4
}
