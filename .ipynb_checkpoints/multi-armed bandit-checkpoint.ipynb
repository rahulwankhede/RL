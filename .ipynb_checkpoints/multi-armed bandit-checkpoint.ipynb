{
 "cells": [
  {
   "cell_type": "code",
   "execution_count": 25,
   "metadata": {},
   "outputs": [],
   "source": [
    "import numpy as np\n",
    "import matplotlib.pyplot as plt"
   ]
  },
  {
   "cell_type": "code",
   "execution_count": 50,
   "metadata": {},
   "outputs": [],
   "source": [
    "arms = 10\n",
    "runs = 2000\n",
    "steps = 1000\n",
    "eps = 0.1\n",
    "alpha = 0.1"
   ]
  },
  {
   "cell_type": "code",
   "execution_count": 3,
   "metadata": {},
   "outputs": [
    {
     "data": {
      "text/plain": [
       "3"
      ]
     },
     "execution_count": 3,
     "metadata": {},
     "output_type": "execute_result"
    }
   ],
   "source": [
    "np.random.choice(4)"
   ]
  },
  {
   "cell_type": "code",
   "execution_count": 4,
   "metadata": {},
   "outputs": [
    {
     "data": {
      "text/plain": [
       "array([0, 5, 2, 5, 4, 5])"
      ]
     },
     "execution_count": 4,
     "metadata": {},
     "output_type": "execute_result"
    }
   ],
   "source": [
    "b = np.arange(6)\n",
    "b[1] = 5\n",
    "b[3] = 5\n",
    "b "
   ]
  },
  {
   "cell_type": "code",
   "execution_count": 5,
   "metadata": {},
   "outputs": [
    {
     "data": {
      "text/plain": [
       "1"
      ]
     },
     "execution_count": 5,
     "metadata": {},
     "output_type": "execute_result"
    }
   ],
   "source": [
    "np.random.choice(np.flatnonzero(b==b.max()))"
   ]
  },
  {
   "cell_type": "code",
   "execution_count": 6,
   "metadata": {},
   "outputs": [
    {
     "data": {
      "text/plain": [
       "array([ 0.05948474, -0.85952403, -1.53656907,  2.01057106, -0.13633621,\n",
       "        0.88772592, -0.98682596, -0.26425513, -0.17825302, -1.11198333])"
      ]
     },
     "execution_count": 6,
     "metadata": {},
     "output_type": "execute_result"
    }
   ],
   "source": [
    "means = np.random.normal(size=10)\n",
    "means"
   ]
  },
  {
   "cell_type": "code",
   "execution_count": 7,
   "metadata": {},
   "outputs": [
    {
     "data": {
      "text/plain": [
       "array([-1.16066434, -0.96322287, -1.14812841,  3.67960022, -1.25723628,\n",
       "        1.55327123, -1.39817901, -1.54645169, -1.05104183, -1.24975018])"
      ]
     },
     "execution_count": 7,
     "metadata": {},
     "output_type": "execute_result"
    }
   ],
   "source": [
    "R = np.random.normal(means)\n",
    "R"
   ]
  },
  {
   "cell_type": "code",
   "execution_count": 8,
   "metadata": {},
   "outputs": [
    {
     "data": {
      "text/plain": [
       "False"
      ]
     },
     "execution_count": 8,
     "metadata": {},
     "output_type": "execute_result"
    }
   ],
   "source": [
    "1 == np.argmax(means)"
   ]
  },
  {
   "cell_type": "code",
   "execution_count": 9,
   "metadata": {},
   "outputs": [
    {
     "data": {
      "text/plain": [
       "array([[[1, 3],\n",
       "        [2, 7]],\n",
       "\n",
       "       [[3, 5],\n",
       "        [3, 6]]])"
      ]
     },
     "execution_count": 9,
     "metadata": {},
     "output_type": "execute_result"
    }
   ],
   "source": [
    "x = np.array([[[1, 3], [2,7]], [[3, 5], [3, 6]]])\n",
    "x"
   ]
  },
  {
   "cell_type": "code",
   "execution_count": 10,
   "metadata": {},
   "outputs": [
    {
     "data": {
      "text/plain": [
       "array([[0., 0.],\n",
       "       [0., 0.],\n",
       "       [0., 0.],\n",
       "       [0., 0.]])"
      ]
     },
     "execution_count": 10,
     "metadata": {},
     "output_type": "execute_result"
    }
   ],
   "source": [
    "r = np.zeros((4,2))\n",
    "r"
   ]
  },
  {
   "cell_type": "code",
   "execution_count": 11,
   "metadata": {},
   "outputs": [
    {
     "data": {
      "text/plain": [
       "array([0., 0.])"
      ]
     },
     "execution_count": 11,
     "metadata": {},
     "output_type": "execute_result"
    }
   ],
   "source": [
    "r.mean(0)"
   ]
  },
  {
   "cell_type": "code",
   "execution_count": 27,
   "metadata": {},
   "outputs": [],
   "source": [
    "def bandit_algo(n=arms, eps = eps, means=means, steps = steps):\n",
    "    \n",
    "    Q = np.zeros(n)\n",
    "    N = np.zeros(n)\n",
    "    reward = np.zeros(steps)\n",
    "    optimal = np.zeros(steps)\n",
    "    \n",
    "    for step in range(steps):\n",
    "        if np.random.uniform() < eps:\n",
    "            A = np.random.choice(n)\n",
    "        else:\n",
    "            A = np.random.choice(np.flatnonzero(Q == Q.max()))\n",
    "        \n",
    "        R = bandit(A, means)\n",
    "        N[A] += 1\n",
    "        Q[A] += (R - Q[A])/N[A]\n",
    "        \n",
    "        reward[step] = R\n",
    "        if (A == np.argmax(means)):\n",
    "            optimal[step] = 1\n",
    "    \n",
    "    return reward, optimal"
   ]
  },
  {
   "cell_type": "code",
   "execution_count": 28,
   "metadata": {},
   "outputs": [],
   "source": [
    "def bandit(A, means):\n",
    "    return np.random.normal(means[A])"
   ]
  },
  {
   "cell_type": "code",
   "execution_count": 29,
   "metadata": {},
   "outputs": [],
   "source": [
    "def simulation(runs=runs, steps=steps, eps=eps):\n",
    "    average_reward = np.zeros((runs, steps))\n",
    "    average_optimal = np.zeros((runs, steps))\n",
    "    \n",
    "    for i in range(runs):\n",
    "        means = np.random.normal(size=arms)\n",
    "        average_reward[i], average_optimal[i] = bandit_algo(eps=eps, steps = steps)\n",
    "        \n",
    "    return average_reward.mean(0), average_optimal.mean(0)"
   ]
  },
  {
   "cell_type": "code",
   "execution_count": 21,
   "metadata": {},
   "outputs": [],
   "source": [
    "rew, opt = simulation(2000, 1000)"
   ]
  },
  {
   "cell_type": "code",
   "execution_count": 30,
   "metadata": {},
   "outputs": [],
   "source": [
    "rew0, opt0 = simulation(2000, 1000, eps=0)"
   ]
  },
  {
   "cell_type": "code",
   "execution_count": 33,
   "metadata": {},
   "outputs": [],
   "source": [
    "rew1, opt1 = simulation(2000, 1000, eps=0.01)"
   ]
  },
  {
   "cell_type": "code",
   "execution_count": 34,
   "metadata": {},
   "outputs": [
    {
     "data": {
      "text/plain": [
       "[<matplotlib.lines.Line2D at 0x7fee93a1e490>]"
      ]
     },
     "execution_count": 34,
     "metadata": {},
     "output_type": "execute_result"
    },
    {
     "data": {
      "image/png": "[encoded data removed]",
      "text/plain": [
       "<Figure size 432x288 with 1 Axes>"
      ]
     },
     "metadata": {
      "needs_background": "light"
     },
     "output_type": "display_data"
    }
   ],
   "source": [
    "plt.plot(rew)\n",
    "plt.plot(rew0)\n",
    "plt.plot(rew1)\n"
   ]
  },
  {
   "cell_type": "code",
   "execution_count": 35,
   "metadata": {},
   "outputs": [
    {
     "data": {
      "text/plain": [
       "[<matplotlib.lines.Line2D at 0x7fee949432e0>]"
      ]
     },
     "execution_count": 35,
     "metadata": {},
     "output_type": "execute_result"
    },
    {
     "data": {
      "image/png": "[encoded data removed]",
      "text/plain": [
       "<Figure size 432x288 with 1 Axes>"
      ]
     },
     "metadata": {
      "needs_background": "light"
     },
     "output_type": "display_data"
    }
   ],
   "source": [
    "plt.plot(opt)\n",
    "plt.plot(opt0)\n",
    "plt.plot(opt1)"
   ]
  },
  {
   "cell_type": "code",
   "execution_count": 36,
   "metadata": {},
   "outputs": [],
   "source": [
    "means = np.zeros(10)"
   ]
  },
  {
   "cell_type": "code",
   "execution_count": 43,
   "metadata": {},
   "outputs": [],
   "source": [
    "def bandit_algo_ns(n=arms, eps = eps, steps = steps):\n",
    "    \n",
    "    means = np.ones(n)\n",
    "    \n",
    "    Q = np.zeros(n)\n",
    "    N = np.zeros(n)\n",
    "    reward = np.zeros(steps)\n",
    "    optimal = np.zeros(steps)\n",
    "    \n",
    "    for step in range(steps):\n",
    "        if np.random.uniform() < eps:\n",
    "            A = np.random.choice(n)\n",
    "        else:\n",
    "            A = np.random.choice(np.flatnonzero(Q == Q.max()))\n",
    "        \n",
    "        R = bandit(A, means)\n",
    "        N[A] += 1\n",
    "        Q[A] += (R - Q[A])/N[A]\n",
    "        \n",
    "        reward[step] = R\n",
    "        if (A == np.argmax(means)):\n",
    "            optimal[step] = 1\n",
    "            \n",
    "        means += np.random.normal(0, 0.01, size=n)\n",
    "    \n",
    "    return reward, optimal"
   ]
  },
  {
   "cell_type": "code",
   "execution_count": 44,
   "metadata": {},
   "outputs": [],
   "source": [
    "def simulation_ns(runs=runs, steps=steps, eps=eps):\n",
    "    average_reward = np.zeros((runs, steps))\n",
    "    average_optimal = np.zeros((runs, steps))\n",
    "    \n",
    "    for i in range(runs):\n",
    "        average_reward[i], average_optimal[i] = bandit_algo_ns(eps=eps, steps = steps)\n",
    "        \n",
    "    return average_reward.mean(0), average_optimal.mean(0)"
   ]
  },
  {
   "cell_type": "code",
   "execution_count": 66,
   "metadata": {},
   "outputs": [],
   "source": [
    "r, o = simulation_ns(2000, 10000)"
   ]
  },
  {
   "cell_type": "code",
   "execution_count": 60,
   "metadata": {},
   "outputs": [],
   "source": [
    "def bandit_algo_s(n=arms, eps = eps, steps = steps, alpha=alpha):\n",
    "    \n",
    "    means = np.ones(n)\n",
    "    \n",
    "    Q = np.zeros(n)\n",
    "    N = np.zeros(n)\n",
    "    reward = np.zeros(steps)\n",
    "    optimal = np.zeros(steps)\n",
    "    \n",
    "    for step in range(steps):\n",
    "        if np.random.uniform() < eps:\n",
    "            A = np.random.choice(n)\n",
    "        else:\n",
    "            A = np.random.choice(np.flatnonzero(Q == Q.max()))\n",
    "        \n",
    "        R = bandit(A, means)\n",
    "        Q[A] += (R - Q[A])*alpha\n",
    "        \n",
    "        reward[step] = R\n",
    "        if (A == np.argmax(means)):\n",
    "            optimal[step] = 1\n",
    "            \n",
    "        means += np.random.normal(0, 0.01, size=n)\n",
    "    \n",
    "    return reward, optimal"
   ]
  },
  {
   "cell_type": "code",
   "execution_count": 61,
   "metadata": {},
   "outputs": [],
   "source": [
    "def simulation_s(runs=runs, steps=steps, eps=eps):\n",
    "    average_reward = np.zeros((runs, steps))\n",
    "    average_optimal = np.zeros((runs, steps))\n",
    "    \n",
    "    for i in range(runs):\n",
    "        average_reward[i], average_optimal[i] = bandit_algo_s(eps=eps, steps = steps)\n",
    "        \n",
    "    return average_reward.mean(0), average_optimal.mean(0)"
   ]
  },
  {
   "cell_type": "code",
   "execution_count": 67,
   "metadata": {},
   "outputs": [],
   "source": [
    "rs, os = simulation_s(2000, 10000)"
   ]
  },
  {
   "cell_type": "code",
   "execution_count": 62,
   "metadata": {},
   "outputs": [
    {
     "data": {
      "text/plain": [
       "(array([0.98024885, 1.02267221, 1.00213802, 0.98457434, 0.98330852,\n",
       "        0.97805753, 1.0384172 , 0.97826469, 1.01511902, 1.00208893]),\n",
       " array([0.1015, 0.1025, 0.0935, 0.0975, 0.0925, 0.1065, 0.1075, 0.1045,\n",
       "        0.1045, 0.097 ]))"
      ]
     },
     "execution_count": 62,
     "metadata": {},
     "output_type": "execute_result"
    }
   ],
   "source": [
    "simulation_s(2000, 10)"
   ]
  },
  {
   "cell_type": "code",
   "execution_count": 68,
   "metadata": {},
   "outputs": [
    {
     "data": {
      "text/plain": [
       "[<matplotlib.lines.Line2D at 0x7fee93574eb0>]"
      ]
     },
     "execution_count": 68,
     "metadata": {},
     "output_type": "execute_result"
    },
    {
     "data": {
      "image/png": "[encoded data removed]",
      "text/plain": [
       "<Figure size 432x288 with 1 Axes>"
      ]
     },
     "metadata": {
      "needs_background": "light"
     },
     "output_type": "display_data"
    }
   ],
   "source": [
    "plt.plot(r)\n",
    "plt.plot(rs)"
   ]
  },
  {
   "cell_type": "code",
   "execution_count": 69,
   "metadata": {
    "scrolled": true
   },
   "outputs": [
    {
     "data": {
      "text/plain": [
       "[<matplotlib.lines.Line2D at 0x7fee9331d6a0>]"
      ]
     },
     "execution_count": 69,
     "metadata": {},
     "output_type": "execute_result"
    },
    {
     "data": {
      "image/png": "[encoded data removed]",
      "text/plain": [
       "<Figure size 432x288 with 1 Axes>"
      ]
     },
     "metadata": {
      "needs_background": "light"
     },
     "output_type": "display_data"
    }
   ],
   "source": [
    "plt.plot(o)\n",
    "plt.plot(os)"
   ]
  },
  {
   "cell_type": "code",
   "execution_count": null,
   "metadata": {},
   "outputs": [],
   "source": []
  }
 ],
 "metadata": {
  "kernelspec": {
   "display_name": "Python 3",
   "language": "python",
   "name": "python3"
  },
  "language_info": {
   "codemirror_mode": {
    "name": "ipython",
    "version": 3
   },
   "file_extension": ".py",
   "mimetype": "text/x-python",
   "name": "python",
   "nbconvert_exporter": "python",
   "pygments_lexer": "ipython3",
   "version": "3.8.2"
  }
 },
 "nbformat": 4,
 "nbformat_minor": 4
}
